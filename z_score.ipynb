{
 "cells": [
  {
   "cell_type": "code",
   "execution_count": 1,
   "metadata": {},
   "outputs": [],
   "source": [
    "import numpy as np\n",
    "import pandas as pd"
   ]
  },
  {
   "cell_type": "code",
   "execution_count": 37,
   "metadata": {},
   "outputs": [],
   "source": [
    "import statistics\n",
    "\n",
    "from sklearn.preprocessing import StandardScaler"
   ]
  },
  {
   "cell_type": "code",
   "execution_count": 29,
   "metadata": {},
   "outputs": [],
   "source": [
    "data1 = pd.read_csv(\"處理過的資料/Measurement_data1.csv\",encoding=\"utf-8\",index_col=0)\n",
    "data2 = pd.read_csv(\"處理過的資料/Measurement_data2.csv\",encoding=\"utf-8\",index_col=0)\n",
    "data3 = pd.read_csv(\"處理過的資料/Measurement_data3.csv\",encoding=\"utf-8\",index_col=0)\n",
    "data4 = pd.read_csv(\"處理過的資料/Measurement_data4.csv\",encoding=\"utf-8\",index_col=0)\n",
    "data5 = pd.read_csv(\"處理過的資料/Measurement_data5.csv\",encoding=\"utf-8\",index_col=0)\n",
    "data6 = pd.read_csv(\"處理過的資料/Measurement_data6.csv\",encoding=\"utf-8\",index_col=0)\n",
    "data7 = pd.read_csv(\"處理過的資料/Measurement_data7.csv\",encoding=\"utf-8\",index_col=0)\n",
    "data8 = pd.read_csv(\"處理過的資料/Measurement_data8.csv\",encoding=\"utf-8\",index_col=0)\n",
    "data9 = pd.read_csv(\"處理過的資料/Measurement_data9.csv\",encoding=\"utf-8\",index_col=0)\n",
    "data10 = pd.read_csv(\"處理過的資料/Measurement_data10.csv\",encoding=\"utf-8\",index_col=0)"
   ]
  },
  {
   "cell_type": "code",
   "execution_count": 30,
   "metadata": {},
   "outputs": [],
   "source": [
    "for i in range(10):\n",
    "    globals()['dat'+str(i+1)] = globals()['data'+str(i+1)].iloc[1:,:]"
   ]
  },
  {
   "cell_type": "markdown",
   "metadata": {},
   "source": [
    "### 10筆資料的平均數"
   ]
  },
  {
   "cell_type": "code",
   "execution_count": 34,
   "metadata": {},
   "outputs": [
    {
     "name": "stdout",
     "output_type": "stream",
     "text": [
      "'data1' mean is 10.989333333333333\n",
      "'data2' mean is 10.991\n",
      "'data3' mean is 10.993\n",
      "'data4' mean is 10.993333333333334\n",
      "'data5' mean is 10.991333333333333\n",
      "'data6' mean is 7.559666666666667\n",
      "'data7' mean is 7.559\n",
      "'data8' mean is 7.557333333333333\n",
      "'data9' mean is 7.558\n",
      "'data10' mean is 7.559\n"
     ]
    }
   ],
   "source": [
    "for i in range(10):\n",
    "    print(\"'data{}' mean is {}\".format(i+1,statistics.mean(globals()['dat'+str(i+1)].value.values)))"
   ]
  },
  {
   "cell_type": "markdown",
   "metadata": {},
   "source": [
    "### 10筆資料的標準差"
   ]
  },
  {
   "cell_type": "code",
   "execution_count": 36,
   "metadata": {},
   "outputs": [
    {
     "name": "stdout",
     "output_type": "stream",
     "text": [
      "'dat1' stdev is 0.006914918072835061\n",
      "'dat2' stdev is 0.006617635789938427\n",
      "'dat3' stdev is 0.007497125886079394\n",
      "'dat4' stdev is 0.006608945522512526\n",
      "'dat5' stdev is 0.007760791522613443\n",
      "'dat6' stdev is 0.0055605341676754644\n",
      "'dat7' stdev is 0.007119666788018641\n",
      "'dat8' stdev is 0.005832922809856755\n",
      "'dat9' stdev is 0.006102571532587344\n",
      "'dat10' stdev is 0.0066176357899386815\n"
     ]
    }
   ],
   "source": [
    "for i in range(10):\n",
    "    print(\"'dat{}' stdev is {}\".format(i+1,statistics.stdev(globals()['dat'+str(i+1)].value.values)))"
   ]
  },
  {
   "cell_type": "markdown",
   "metadata": {},
   "source": [
    "### 10筆資料的上下限"
   ]
  },
  {
   "cell_type": "code",
   "execution_count": 83,
   "metadata": {},
   "outputs": [],
   "source": [
    "upper = []\n",
    "lower = []\n",
    "for i in range(10):\n",
    "    mean_= statistics.mean(globals()['dat'+str(i+1)].value.values)\n",
    "    stdev_ = statistics.stdev(globals()['dat'+str(i+1)].value.values)\n",
    "\n",
    "    if i < 5 :\n",
    "        upper.append((11.00-mean_)/stdev_ )\n",
    "        lower.append((10.98-mean_)/stdev_ )\n",
    "    else :\n",
    "        upper.append((7.57-mean_)/stdev_ )\n",
    "        lower.append((7.55-mean_)/stdev_ )\n",
    "\n",
    "upper = pd.DataFrame(upper)\n",
    "lower = pd.DataFrame(lower)\n",
    "        "
   ]
  },
  {
   "cell_type": "code",
   "execution_count": 84,
   "metadata": {},
   "outputs": [],
   "source": [
    "data_ul = pd.concat([upper,lower],axis=1)"
   ]
  },
  {
   "cell_type": "code",
   "execution_count": 87,
   "metadata": {},
   "outputs": [],
   "source": [
    "data_ul.columns= [\"upper\",\"lower\"]\n",
    "data_ul.to_csv(\"ten_data(ul).csv\",encoding=\"utf-8-sig\")"
   ]
  },
  {
   "cell_type": "markdown",
   "metadata": {},
   "source": [
    "### 合併資料的上下限"
   ]
  },
  {
   "cell_type": "code",
   "execution_count": 92,
   "metadata": {},
   "outputs": [
    {
     "data": {
      "text/plain": [
       "1     10.99\n",
       "2     10.99\n",
       "3     11.00\n",
       "4     10.98\n",
       "5     10.98\n",
       "6     10.98\n",
       "7     10.98\n",
       "8     11.00\n",
       "9     10.99\n",
       "10    10.99\n",
       "11    11.00\n",
       "12    10.99\n",
       "13    10.98\n",
       "14    11.00\n",
       "15    10.99\n",
       "16    10.98\n",
       "17    11.00\n",
       "18    10.98\n",
       "19    10.99\n",
       "20    10.99\n",
       "21    10.99\n",
       "22    10.98\n",
       "23    10.99\n",
       "24    10.99\n",
       "25    10.99\n",
       "26    10.99\n",
       "27    11.00\n",
       "28    10.99\n",
       "29    10.99\n",
       "30    10.99\n",
       "Name: value, dtype: float64"
      ]
     },
     "execution_count": 92,
     "metadata": {},
     "output_type": "execute_result"
    }
   ],
   "source": [
    "data1.value[1:]"
   ]
  },
  {
   "cell_type": "code",
   "execution_count": 89,
   "metadata": {},
   "outputs": [],
   "source": [
    "data_a  = pd.concat([data1.value[1:],data2.value,data3.value,data4.value,data5.value])\n",
    "data_a.reset_index(inplace=True,drop=True)\n",
    "\n",
    "data_b  = pd.concat([data6.value,data7.value,data8.value,data9.value,data10.value])\n",
    "data_b.reset_index(inplace=True,drop=True)"
   ]
  },
  {
   "cell_type": "code",
   "execution_count": 90,
   "metadata": {},
   "outputs": [
    {
     "data": {
      "text/plain": [
       "0       0.00\n",
       "1      10.99\n",
       "2      10.99\n",
       "3      11.00\n",
       "4      10.98\n",
       "       ...  \n",
       "150    11.00\n",
       "151    10.99\n",
       "152    10.98\n",
       "153    11.00\n",
       "154    11.00\n",
       "Name: value, Length: 155, dtype: float64"
      ]
     },
     "execution_count": 90,
     "metadata": {},
     "output_type": "execute_result"
    }
   ],
   "source": [
    "data_a"
   ]
  },
  {
   "cell_type": "markdown",
   "metadata": {},
   "source": [
    "### 資料標準化"
   ]
  },
  {
   "cell_type": "code",
   "execution_count": 77,
   "metadata": {},
   "outputs": [],
   "source": [
    "scaler = StandardScaler()\n",
    "for i in range(10):\n",
    "    data = scaler.fit_transform(globals()[\"dat\"+str(i+1)].value.values.reshape(-1,1))\n",
    "\n",
    "    data = pd.DataFrame(data)\n",
    "    data.columns=[\"value\"]\n",
    "\n",
    "    df = globals()[\"data\"+str(i+1)]\n",
    "    df = df.iloc[1:,1:]\n",
    "    df.reset_index(inplace=True,drop=True)\n",
    "\n",
    "    z_final = pd.concat([data,df],axis=1)\n",
    "\n",
    "    z_final.to_csv(\"z_data{}.csv\".format(i+1),encoding=\"utf-8-sig\")\n",
    "    "
   ]
  },
  {
   "cell_type": "code",
   "execution_count": null,
   "metadata": {},
   "outputs": [],
   "source": []
  }
 ],
 "metadata": {
  "interpreter": {
   "hash": "e880b6a5c7a5f4b142d9f445d0f040070dabb42b7abdaabc6906731dc44ddb78"
  },
  "kernelspec": {
   "display_name": "Python 3.8.10 ('tensorflow')",
   "language": "python",
   "name": "python3"
  },
  "language_info": {
   "codemirror_mode": {
    "name": "ipython",
    "version": 3
   },
   "file_extension": ".py",
   "mimetype": "text/x-python",
   "name": "python",
   "nbconvert_exporter": "python",
   "pygments_lexer": "ipython3",
   "version": "3.8.10"
  },
  "orig_nbformat": 4
 },
 "nbformat": 4,
 "nbformat_minor": 2
}
