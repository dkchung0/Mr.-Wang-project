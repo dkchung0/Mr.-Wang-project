{
 "cells": [
  {
   "cell_type": "code",
   "execution_count": 158,
   "metadata": {},
   "outputs": [],
   "source": [
    "import numpy as np\n",
    "import pandas as pd"
   ]
  },
  {
   "cell_type": "markdown",
   "metadata": {},
   "source": [
    "# 讀檔案"
   ]
  },
  {
   "cell_type": "code",
   "execution_count": 159,
   "metadata": {},
   "outputs": [],
   "source": [
    "data1 = pd.read_csv(\"測量a1.csv\",encoding=\"utf-8\",header=None)\n",
    "data2 = pd.read_csv(\"測量a2.csv\",encoding=\"utf-8\",header=None)\n",
    "data3 = pd.read_csv(\"測量a3.csv\",encoding=\"utf-8\",header=None)\n",
    "data4 = pd.read_csv(\"測量a4.csv\",encoding=\"utf-8\",header=None)\n",
    "data5 = pd.read_csv(\"測量a5.csv\",encoding=\"utf-8\",header=None)\n",
    "data6 = pd.read_csv(\"測量b1.csv\",encoding=\"utf-8\",header=None)\n",
    "data7 = pd.read_csv(\"測量b2.csv\",encoding=\"utf-8\",header=None)\n",
    "data8 = pd.read_csv(\"測量b3.csv\",encoding=\"utf-8\",header=None)\n",
    "data9 = pd.read_csv(\"測量b4.csv\",encoding=\"utf-8\",header=None)\n",
    "data10 = pd.read_csv(\"測量b5.csv\",encoding=\"utf-8\",header=None)"
   ]
  },
  {
   "cell_type": "markdown",
   "metadata": {},
   "source": [
    "# 寫成class方便管理"
   ]
  },
  {
   "cell_type": "code",
   "execution_count": 160,
   "metadata": {},
   "outputs": [],
   "source": [
    "class project_data:\n",
    "\n",
    "    def __init__(self,data):\n",
    "        self.data = data\n",
    "        \n",
    "    def data_clear(self):\n",
    "    \n",
    "        data_ = []\n",
    "\n",
    "        for i in range(self.data.size):\n",
    "            \n",
    "            data_.append(self.data[0][i].split(\";\"))\n",
    "\n",
    "        data__ = pd.DataFrame(data_)\n",
    "\n",
    "        data__.columns = [\"value\",\"date\",\"time\"]\n",
    "\n",
    "        return data__\n",
    "\n",
    "    def time_diff_a(self):\n",
    "    \n",
    "        time_interval=[]\n",
    "\n",
    "        for i in range(self.data.size-1):\n",
    "            \n",
    "            h1 = self.data[0][i][19:21]\n",
    "            m1 = self.data[0][i][22:24]\n",
    "            s1 = self.data[0][i][25:27]\n",
    "\n",
    "            t1 = int(h1)*1440 + int(m1)*60 + int(s1)\n",
    "\n",
    "            h2 = self.data[0][i+1][19:21]\n",
    "            m2 = self.data[0][i+1][22:24]\n",
    "            s2 = self.data[0][i+1][25:27]\n",
    "\n",
    "            t2 = int(h2)*1440 + int(m2)*60 + int(s2)\n",
    "\n",
    "            time_interval.append(t2-t1)\n",
    "\n",
    "            data = pd.DataFrame(time_interval)\n",
    "            data.columns=[\"Time_difference\"]\n",
    "        \n",
    "        return data\n",
    "\n",
    "    def time_diff_b(self):\n",
    "    \n",
    "        time_interval=[]\n",
    "\n",
    "        for i in range(self.data.size-1):\n",
    "            \n",
    "            h1 = self.data[0][i][18:20]\n",
    "            m1 = self.data[0][i][21:23]\n",
    "            s1 = self.data[0][i][24:26]\n",
    "\n",
    "            t1 = int(h1)*1440 + int(m1)*60 + int(s1)\n",
    "\n",
    "            h2 = self.data[0][i+1][18:20]\n",
    "            m2 = self.data[0][i+1][21:23]\n",
    "            s2 = self.data[0][i+1][24:26]\n",
    "\n",
    "            t2 = int(h2)*1440 + int(m2)*60 + int(s2)\n",
    "\n",
    "            time_interval.append(t2-t1)\n",
    "\n",
    "            data = pd.DataFrame(time_interval)\n",
    "            data.columns=[\"Time_difference\"]\n",
    "        \n",
    "        return data\n",
    "        "
   ]
  },
  {
   "cell_type": "markdown",
   "metadata": {},
   "source": [
    "# 儲存整理好的資料"
   ]
  },
  {
   "cell_type": "code",
   "execution_count": 161,
   "metadata": {},
   "outputs": [],
   "source": [
    "for i in range(10):\n",
    "    ans = project_data(globals()['data'+str(i+1)]).data_clear()\n",
    "    ans.to_csv(\"Measurement_data{}.csv\".format(i+1),encoding=\"utf-8-sig\")"
   ]
  },
  {
   "cell_type": "code",
   "execution_count": 162,
   "metadata": {},
   "outputs": [],
   "source": [
    "for i in range(5):\n",
    "    ans = project_data(globals()['data'+str(i+1)]).time_diff_a()\n",
    "    ans.to_csv(\"time_data_a{}.csv\".format(i+1),encoding=\"utf-8-sig\")"
   ]
  },
  {
   "cell_type": "code",
   "execution_count": 163,
   "metadata": {},
   "outputs": [],
   "source": [
    "for i in range(5):\n",
    "    ans = project_data(globals()['data'+str(i+6)]).time_diff_b()\n",
    "    ans.to_csv(\"time_data_b{}.csv\".format(i+1),encoding=\"utf-8-sig\")"
   ]
  },
  {
   "cell_type": "code",
   "execution_count": null,
   "metadata": {},
   "outputs": [],
   "source": []
  },
  {
   "cell_type": "code",
   "execution_count": null,
   "metadata": {},
   "outputs": [],
   "source": []
  }
 ],
 "metadata": {
  "interpreter": {
   "hash": "e880b6a5c7a5f4b142d9f445d0f040070dabb42b7abdaabc6906731dc44ddb78"
  },
  "kernelspec": {
   "display_name": "Python 3.8.10 ('tensorflow')",
   "language": "python",
   "name": "python3"
  },
  "language_info": {
   "codemirror_mode": {
    "name": "ipython",
    "version": 3
   },
   "file_extension": ".py",
   "mimetype": "text/x-python",
   "name": "python",
   "nbconvert_exporter": "python",
   "pygments_lexer": "ipython3",
   "version": "3.8.10"
  },
  "orig_nbformat": 4
 },
 "nbformat": 4,
 "nbformat_minor": 2
}
